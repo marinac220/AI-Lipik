{
 "cells": [
  {
   "cell_type": "markdown",
   "id": "1e0cf8be-63fa-4a15-970a-bc4ee6710404",
   "metadata": {},
   "source": [
    "# Bike buyers"
   ]
  },
  {
   "cell_type": "code",
   "execution_count": 59,
   "id": "2e8a783e-8617-49a6-b3a7-6f47979ea7ae",
   "metadata": {},
   "outputs": [
    {
     "name": "stderr",
     "output_type": "stream",
     "text": [
      "Matplotlib is building the font cache; this may take a moment.\n"
     ]
    }
   ],
   "source": [
    "import pandas as pd\n",
    "import matplotlib.pyplot as plt\n",
    "df = pd.read_csv(\"bike_buyers_clean.csv\")"
   ]
  },
  {
   "cell_type": "code",
   "execution_count": 4,
   "id": "52cedb75-1f0e-4a80-88a6-7cebb08422f5",
   "metadata": {},
   "outputs": [
    {
     "data": {
      "text/html": [
       "<div>\n",
       "<style scoped>\n",
       "    .dataframe tbody tr th:only-of-type {\n",
       "        vertical-align: middle;\n",
       "    }\n",
       "\n",
       "    .dataframe tbody tr th {\n",
       "        vertical-align: top;\n",
       "    }\n",
       "\n",
       "    .dataframe thead th {\n",
       "        text-align: right;\n",
       "    }\n",
       "</style>\n",
       "<table border=\"1\" class=\"dataframe\">\n",
       "  <thead>\n",
       "    <tr style=\"text-align: right;\">\n",
       "      <th></th>\n",
       "      <th>ID</th>\n",
       "      <th>Marital Status</th>\n",
       "      <th>Gender</th>\n",
       "      <th>Income</th>\n",
       "      <th>Children</th>\n",
       "      <th>Education</th>\n",
       "      <th>Occupation</th>\n",
       "      <th>Home Owner</th>\n",
       "      <th>Cars</th>\n",
       "      <th>Commute Distance</th>\n",
       "      <th>Region</th>\n",
       "      <th>Age</th>\n",
       "      <th>Purchased Bike</th>\n",
       "    </tr>\n",
       "  </thead>\n",
       "  <tbody>\n",
       "    <tr>\n",
       "      <th>0</th>\n",
       "      <td>12496</td>\n",
       "      <td>Married</td>\n",
       "      <td>Female</td>\n",
       "      <td>40000</td>\n",
       "      <td>1</td>\n",
       "      <td>Bachelors</td>\n",
       "      <td>Skilled Manual</td>\n",
       "      <td>Yes</td>\n",
       "      <td>0</td>\n",
       "      <td>0-1 Miles</td>\n",
       "      <td>Europe</td>\n",
       "      <td>42</td>\n",
       "      <td>No</td>\n",
       "    </tr>\n",
       "    <tr>\n",
       "      <th>1</th>\n",
       "      <td>24107</td>\n",
       "      <td>Married</td>\n",
       "      <td>Male</td>\n",
       "      <td>30000</td>\n",
       "      <td>3</td>\n",
       "      <td>Partial College</td>\n",
       "      <td>Clerical</td>\n",
       "      <td>Yes</td>\n",
       "      <td>1</td>\n",
       "      <td>0-1 Miles</td>\n",
       "      <td>Europe</td>\n",
       "      <td>43</td>\n",
       "      <td>No</td>\n",
       "    </tr>\n",
       "    <tr>\n",
       "      <th>2</th>\n",
       "      <td>14177</td>\n",
       "      <td>Married</td>\n",
       "      <td>Male</td>\n",
       "      <td>80000</td>\n",
       "      <td>5</td>\n",
       "      <td>Partial College</td>\n",
       "      <td>Professional</td>\n",
       "      <td>No</td>\n",
       "      <td>2</td>\n",
       "      <td>2-5 Miles</td>\n",
       "      <td>Europe</td>\n",
       "      <td>60</td>\n",
       "      <td>No</td>\n",
       "    </tr>\n",
       "    <tr>\n",
       "      <th>3</th>\n",
       "      <td>24381</td>\n",
       "      <td>Single</td>\n",
       "      <td>Male</td>\n",
       "      <td>70000</td>\n",
       "      <td>0</td>\n",
       "      <td>Bachelors</td>\n",
       "      <td>Professional</td>\n",
       "      <td>Yes</td>\n",
       "      <td>1</td>\n",
       "      <td>5-10 Miles</td>\n",
       "      <td>Pacific</td>\n",
       "      <td>41</td>\n",
       "      <td>Yes</td>\n",
       "    </tr>\n",
       "    <tr>\n",
       "      <th>4</th>\n",
       "      <td>25597</td>\n",
       "      <td>Single</td>\n",
       "      <td>Male</td>\n",
       "      <td>30000</td>\n",
       "      <td>0</td>\n",
       "      <td>Bachelors</td>\n",
       "      <td>Clerical</td>\n",
       "      <td>No</td>\n",
       "      <td>0</td>\n",
       "      <td>0-1 Miles</td>\n",
       "      <td>Europe</td>\n",
       "      <td>36</td>\n",
       "      <td>Yes</td>\n",
       "    </tr>\n",
       "  </tbody>\n",
       "</table>\n",
       "</div>"
      ],
      "text/plain": [
       "      ID Marital Status  Gender  Income  Children        Education  \\\n",
       "0  12496        Married  Female   40000         1        Bachelors   \n",
       "1  24107        Married    Male   30000         3  Partial College   \n",
       "2  14177        Married    Male   80000         5  Partial College   \n",
       "3  24381         Single    Male   70000         0        Bachelors   \n",
       "4  25597         Single    Male   30000         0        Bachelors   \n",
       "\n",
       "       Occupation Home Owner  Cars Commute Distance   Region  Age  \\\n",
       "0  Skilled Manual        Yes     0        0-1 Miles   Europe   42   \n",
       "1        Clerical        Yes     1        0-1 Miles   Europe   43   \n",
       "2    Professional         No     2        2-5 Miles   Europe   60   \n",
       "3    Professional        Yes     1       5-10 Miles  Pacific   41   \n",
       "4        Clerical         No     0        0-1 Miles   Europe   36   \n",
       "\n",
       "  Purchased Bike  \n",
       "0             No  \n",
       "1             No  \n",
       "2             No  \n",
       "3            Yes  \n",
       "4            Yes  "
      ]
     },
     "execution_count": 4,
     "metadata": {},
     "output_type": "execute_result"
    }
   ],
   "source": [
    "df.head()"
   ]
  },
  {
   "cell_type": "markdown",
   "id": "1b09d6ea-6d47-4389-b1ee-c47c3cd33684",
   "metadata": {},
   "source": [
    "## Što nas interesira"
   ]
  },
  {
   "cell_type": "markdown",
   "id": "18bd1358-7cdc-46be-af7d-4cf5f6dc5368",
   "metadata": {},
   "source": [
    "- Bračni status osoba sa motociklima, želimo pokazati da samci više voze motore\n",
    "- Vidjeti po spolu, obrazovanje i regija tko više kupuje motocikle\n",
    "    - Pretpostavka je da obazovaniji ljudi manje voze motocikle\n",
    "- Vidjeti koliko osoba ima djece - pretpostavka je da ljudi sa djecom ne žele riskirati\n",
    "- Vidjeti koliko osoba ima automobila - pretpostavka je da ljudi sa više automobila ne žele plaćati dodatna osgiranja i registracije\n",
    "    "
   ]
  },
  {
   "cell_type": "code",
   "execution_count": 16,
   "id": "2e5b1221-fde0-4dec-bda6-985e7c12fd63",
   "metadata": {},
   "outputs": [],
   "source": [
    "df_bracni_status = df.groupby(\"Marital Status\")"
   ]
  },
  {
   "cell_type": "code",
   "execution_count": 17,
   "id": "bc458071-9e3a-4c3b-89ba-06507c1283a3",
   "metadata": {
    "scrolled": true
   },
   "outputs": [
    {
     "data": {
      "text/plain": [
       "Marital Status\n",
       "Married    539\n",
       "Single     461\n",
       "Name: count, dtype: int64"
      ]
     },
     "execution_count": 17,
     "metadata": {},
     "output_type": "execute_result"
    }
   ],
   "source": [
    "df_bracni_status[\"Marital Status\"].value_counts()"
   ]
  },
  {
   "cell_type": "code",
   "execution_count": null,
   "id": "8799c438-0841-453f-af01-b5a00152f230",
   "metadata": {},
   "outputs": [
    {
     "name": "stdout",
     "output_type": "stream",
     "text": [
      "53.900000000000006\n"
     ]
    }
   ],
   "source": [
    "married = df_bracni_status[\"Marital Status\"].value_counts()[\"Married\"]\n",
    "single = df_bracni_status[\"Marital Status\"].value_counts()[\"Single\"]\n",
    "print(married/(married + single)*100)"
   ]
  },
  {
   "cell_type": "code",
   "execution_count": null,
   "id": "426b83a8-77e0-472a-8b43-e05b97bf243b",
   "metadata": {},
   "outputs": [
    {
     "data": {
      "text/plain": [
       "Marital Status  Purchased Bike\n",
       "Married         No                307\n",
       "                Yes               232\n",
       "Single          Yes               249\n",
       "                No                212\n",
       "Name: count, dtype: int64"
      ]
     },
     "execution_count": 78,
     "metadata": {},
     "output_type": "execute_result"
    }
   ],
   "source": [
    "df_bracni_status[\"Purchased Bike\"].value_counts()"
   ]
  },
  {
   "cell_type": "markdown",
   "id": "e77bfbf3-dce3-4ab3-9b35-a48653f91f7d",
   "metadata": {},
   "source": [
    "**Zaključak**: Samci kupuju više, ali ne značajno."
   ]
  },
  {
   "cell_type": "code",
   "execution_count": 22,
   "id": "941656f6-6a38-4f9f-a085-6aab58e2c6d1",
   "metadata": {},
   "outputs": [],
   "source": [
    "df_sex = df.groupby(\"Gender\")\n",
    "df_edu = df.groupby(\"Education\")\n",
    "df_region = df.groupby(\"Region\")"
   ]
  },
  {
   "cell_type": "code",
   "execution_count": 23,
   "id": "6ca9faa6-8dee-41f6-9f2d-3eb96bd42ccb",
   "metadata": {},
   "outputs": [
    {
     "data": {
      "text/plain": [
       "Gender  Purchased Bike\n",
       "Female  No                252\n",
       "        Yes               239\n",
       "Male    No                267\n",
       "        Yes               242\n",
       "Name: count, dtype: int64"
      ]
     },
     "execution_count": 23,
     "metadata": {},
     "output_type": "execute_result"
    }
   ],
   "source": [
    "df_sex[\"Purchased Bike\"].value_counts()"
   ]
  },
  {
   "cell_type": "code",
   "execution_count": 24,
   "id": "66ac7260-94b7-41af-b0d5-ee728d7c0ff0",
   "metadata": {},
   "outputs": [
    {
     "data": {
      "text/plain": [
       "Education            Purchased Bike\n",
       "Bachelors            Yes               169\n",
       "                     No                137\n",
       "Graduate Degree      Yes                94\n",
       "                     No                 80\n",
       "High School          No                100\n",
       "                     Yes                79\n",
       "Partial College      No                146\n",
       "                     Yes               119\n",
       "Partial High School  No                 56\n",
       "                     Yes                20\n",
       "Name: count, dtype: int64"
      ]
     },
     "execution_count": 24,
     "metadata": {},
     "output_type": "execute_result"
    }
   ],
   "source": [
    "df_edu[\"Purchased Bike\"].value_counts()"
   ]
  },
  {
   "cell_type": "code",
   "execution_count": 28,
   "id": "8cb10b10-c549-43da-8a82-5e1ceee46929",
   "metadata": {},
   "outputs": [
    {
     "data": {
      "text/plain": [
       "Region         Purchased Bike\n",
       "Europe         No                152\n",
       "               Yes               148\n",
       "North America  No                288\n",
       "               Yes               220\n",
       "Pacific        Yes               113\n",
       "               No                 79\n",
       "Name: count, dtype: int64"
      ]
     },
     "execution_count": 28,
     "metadata": {},
     "output_type": "execute_result"
    }
   ],
   "source": [
    "df_region[\"Purchased Bike\"].value_counts()"
   ]
  },
  {
   "cell_type": "markdown",
   "id": "b4b2d7e4-0a35-4fb1-b5dc-b252172ff9f8",
   "metadata": {},
   "source": [
    "**Zaključak**: Neznatno više muškaraca kupuje motocikle, obrazovani više kupuju motocikle, a najviše motocikala je prodano u North America."
   ]
  },
  {
   "cell_type": "code",
   "execution_count": 31,
   "id": "c618cb55-a611-4f26-9b77-403533eb114b",
   "metadata": {},
   "outputs": [
    {
     "data": {
      "text/plain": [
       "Children  Purchased Bike\n",
       "0         Yes               140\n",
       "          No                137\n",
       "1         Yes                98\n",
       "          No                 72\n",
       "2         No                112\n",
       "          Yes                98\n",
       "3         Yes                73\n",
       "          No                 62\n",
       "4         No                 73\n",
       "          Yes                54\n",
       "5         No                 63\n",
       "          Yes                18\n",
       "Name: count, dtype: int64"
      ]
     },
     "execution_count": 31,
     "metadata": {},
     "output_type": "execute_result"
    }
   ],
   "source": [
    "df_children = df.groupby([\"Children\"])\n",
    "df_children[\"Purchased Bike\"].value_counts()"
   ]
  },
  {
   "cell_type": "markdown",
   "id": "8e26d659-c20b-412a-b2c8-55c705f64b0a",
   "metadata": {},
   "source": [
    "**Zaključak**: Ova teza stoji, ljudi sa više djece manje kupuju motocikle."
   ]
  },
  {
   "cell_type": "code",
   "execution_count": 32,
   "id": "df800ab1-34de-483d-9414-1bf158bb786b",
   "metadata": {},
   "outputs": [
    {
     "data": {
      "text/plain": [
       "Cars  Purchased Bike\n",
       "0     Yes               150\n",
       "      No                 93\n",
       "1     Yes               152\n",
       "      No                115\n",
       "2     No                220\n",
       "      Yes               125\n",
       "3     No                 52\n",
       "      Yes                33\n",
       "4     No                 39\n",
       "      Yes                21\n",
       "Name: count, dtype: int64"
      ]
     },
     "execution_count": 32,
     "metadata": {},
     "output_type": "execute_result"
    }
   ],
   "source": [
    "df_cars = df.groupby([\"Cars\"])\n",
    "df_cars[\"Purchased Bike\"].value_counts()"
   ]
  },
  {
   "cell_type": "markdown",
   "id": "3d208b38-491a-442d-98ac-941c7d8f3faf",
   "metadata": {},
   "source": [
    "**Zaključak**: Ova teza stoji, ljudi sa više automobila manje kupuju motocikle."
   ]
  },
  {
   "cell_type": "code",
   "execution_count": 50,
   "id": "8eabe433-95e5-4f4f-bca7-7e7d8d6f8615",
   "metadata": {},
   "outputs": [],
   "source": [
    "df_two = df.groupby([\"Purchased Bike\", \"Gender\"])"
   ]
  },
  {
   "cell_type": "code",
   "execution_count": 46,
   "id": "4afae7ca-4fca-4680-9f7c-50c4a833fa51",
   "metadata": {},
   "outputs": [
    {
     "data": {
      "text/html": [
       "<div>\n",
       "<style scoped>\n",
       "    .dataframe tbody tr th:only-of-type {\n",
       "        vertical-align: middle;\n",
       "    }\n",
       "\n",
       "    .dataframe tbody tr th {\n",
       "        vertical-align: top;\n",
       "    }\n",
       "\n",
       "    .dataframe thead th {\n",
       "        text-align: right;\n",
       "    }\n",
       "</style>\n",
       "<table border=\"1\" class=\"dataframe\">\n",
       "  <thead>\n",
       "    <tr style=\"text-align: right;\">\n",
       "      <th></th>\n",
       "      <th></th>\n",
       "      <th>count</th>\n",
       "      <th>mean</th>\n",
       "      <th>min</th>\n",
       "      <th>max</th>\n",
       "    </tr>\n",
       "    <tr>\n",
       "      <th>Purchased Bike</th>\n",
       "      <th>Gender</th>\n",
       "      <th></th>\n",
       "      <th></th>\n",
       "      <th></th>\n",
       "      <th></th>\n",
       "    </tr>\n",
       "  </thead>\n",
       "  <tbody>\n",
       "    <tr>\n",
       "      <th rowspan=\"2\" valign=\"top\">No</th>\n",
       "      <th>Female</th>\n",
       "      <td>252</td>\n",
       "      <td>53650.793651</td>\n",
       "      <td>10000</td>\n",
       "      <td>130000</td>\n",
       "    </tr>\n",
       "    <tr>\n",
       "      <th>Male</th>\n",
       "      <td>267</td>\n",
       "      <td>56029.962547</td>\n",
       "      <td>10000</td>\n",
       "      <td>170000</td>\n",
       "    </tr>\n",
       "    <tr>\n",
       "      <th rowspan=\"2\" valign=\"top\">Yes</th>\n",
       "      <th>Female</th>\n",
       "      <td>239</td>\n",
       "      <td>55648.535565</td>\n",
       "      <td>10000</td>\n",
       "      <td>170000</td>\n",
       "    </tr>\n",
       "    <tr>\n",
       "      <th>Male</th>\n",
       "      <td>242</td>\n",
       "      <td>59338.842975</td>\n",
       "      <td>10000</td>\n",
       "      <td>160000</td>\n",
       "    </tr>\n",
       "  </tbody>\n",
       "</table>\n",
       "</div>"
      ],
      "text/plain": [
       "                       count          mean    min     max\n",
       "Purchased Bike Gender                                    \n",
       "No             Female    252  53650.793651  10000  130000\n",
       "               Male      267  56029.962547  10000  170000\n",
       "Yes            Female    239  55648.535565  10000  170000\n",
       "               Male      242  59338.842975  10000  160000"
      ]
     },
     "execution_count": 46,
     "metadata": {},
     "output_type": "execute_result"
    }
   ],
   "source": [
    "df_two[\"Income\"].agg([\"count\", \"mean\", \"min\", \"max\"])"
   ]
  },
  {
   "cell_type": "code",
   "execution_count": 45,
   "id": "76cf1880-db06-4364-919c-c1b82c87e0b2",
   "metadata": {},
   "outputs": [
    {
     "data": {
      "text/html": [
       "<div>\n",
       "<style scoped>\n",
       "    .dataframe tbody tr th:only-of-type {\n",
       "        vertical-align: middle;\n",
       "    }\n",
       "\n",
       "    .dataframe tbody tr th {\n",
       "        vertical-align: top;\n",
       "    }\n",
       "\n",
       "    .dataframe thead th {\n",
       "        text-align: right;\n",
       "    }\n",
       "</style>\n",
       "<table border=\"1\" class=\"dataframe\">\n",
       "  <thead>\n",
       "    <tr style=\"text-align: right;\">\n",
       "      <th></th>\n",
       "      <th></th>\n",
       "      <th>count</th>\n",
       "      <th>mean</th>\n",
       "      <th>min</th>\n",
       "      <th>max</th>\n",
       "    </tr>\n",
       "    <tr>\n",
       "      <th>Purchased Bike</th>\n",
       "      <th>Gender</th>\n",
       "      <th></th>\n",
       "      <th></th>\n",
       "      <th></th>\n",
       "      <th></th>\n",
       "    </tr>\n",
       "  </thead>\n",
       "  <tbody>\n",
       "    <tr>\n",
       "      <th rowspan=\"2\" valign=\"top\">No</th>\n",
       "      <th>Female</th>\n",
       "      <td>252</td>\n",
       "      <td>45.444444</td>\n",
       "      <td>25</td>\n",
       "      <td>89</td>\n",
       "    </tr>\n",
       "    <tr>\n",
       "      <th>Male</th>\n",
       "      <td>267</td>\n",
       "      <td>45.258427</td>\n",
       "      <td>26</td>\n",
       "      <td>73</td>\n",
       "    </tr>\n",
       "    <tr>\n",
       "      <th rowspan=\"2\" valign=\"top\">Yes</th>\n",
       "      <th>Female</th>\n",
       "      <td>239</td>\n",
       "      <td>42.736402</td>\n",
       "      <td>25</td>\n",
       "      <td>72</td>\n",
       "    </tr>\n",
       "    <tr>\n",
       "      <th>Male</th>\n",
       "      <td>242</td>\n",
       "      <td>43.140496</td>\n",
       "      <td>25</td>\n",
       "      <td>78</td>\n",
       "    </tr>\n",
       "  </tbody>\n",
       "</table>\n",
       "</div>"
      ],
      "text/plain": [
       "                       count       mean  min  max\n",
       "Purchased Bike Gender                            \n",
       "No             Female    252  45.444444   25   89\n",
       "               Male      267  45.258427   26   73\n",
       "Yes            Female    239  42.736402   25   72\n",
       "               Male      242  43.140496   25   78"
      ]
     },
     "execution_count": 45,
     "metadata": {},
     "output_type": "execute_result"
    }
   ],
   "source": [
    "df_two[\"Age\"].agg([\"count\", \"mean\", \"min\", \"max\"])"
   ]
  },
  {
   "cell_type": "code",
   "execution_count": 49,
   "id": "535c7d00-3a2b-4e4d-99ca-691074938844",
   "metadata": {},
   "outputs": [
    {
     "data": {
      "text/plain": [
       "Purchased Bike  Gender  Home Owner\n",
       "No              Female  Yes           171\n",
       "                        No             81\n",
       "                Male    Yes           189\n",
       "                        No             78\n",
       "Yes             Female  Yes           163\n",
       "                        No             76\n",
       "                Male    Yes           162\n",
       "                        No             80\n",
       "Name: count, dtype: int64"
      ]
     },
     "execution_count": 49,
     "metadata": {},
     "output_type": "execute_result"
    }
   ],
   "source": [
    "df_two[\"Home Owner\"].value_counts()"
   ]
  },
  {
   "cell_type": "code",
   "execution_count": 51,
   "id": "7cee9094-a4ec-48b7-be36-3fb6e6e344f2",
   "metadata": {},
   "outputs": [],
   "source": [
    "df_3 = df.groupby([\"Purchased Bike\", \"Gender\", \"Home Owner\"])"
   ]
  },
  {
   "cell_type": "code",
   "execution_count": null,
   "id": "730b67ea-d59a-4d0b-9e77-d85529e65f3c",
   "metadata": {},
   "outputs": [
    {
     "data": {
      "text/html": [
       "<div>\n",
       "<style scoped>\n",
       "    .dataframe tbody tr th:only-of-type {\n",
       "        vertical-align: middle;\n",
       "    }\n",
       "\n",
       "    .dataframe tbody tr th {\n",
       "        vertical-align: top;\n",
       "    }\n",
       "\n",
       "    .dataframe thead th {\n",
       "        text-align: right;\n",
       "    }\n",
       "</style>\n",
       "<table border=\"1\" class=\"dataframe\">\n",
       "  <thead>\n",
       "    <tr style=\"text-align: right;\">\n",
       "      <th></th>\n",
       "      <th></th>\n",
       "      <th></th>\n",
       "      <th>count</th>\n",
       "      <th>mean</th>\n",
       "      <th>min</th>\n",
       "      <th>max</th>\n",
       "    </tr>\n",
       "    <tr>\n",
       "      <th>Purchased Bike</th>\n",
       "      <th>Gender</th>\n",
       "      <th>Home Owner</th>\n",
       "      <th></th>\n",
       "      <th></th>\n",
       "      <th></th>\n",
       "      <th></th>\n",
       "    </tr>\n",
       "  </thead>\n",
       "  <tbody>\n",
       "    <tr>\n",
       "      <th rowspan=\"4\" valign=\"top\">No</th>\n",
       "      <th rowspan=\"2\" valign=\"top\">Female</th>\n",
       "      <th>No</th>\n",
       "      <td>81</td>\n",
       "      <td>50740.740741</td>\n",
       "      <td>10000</td>\n",
       "      <td>130000</td>\n",
       "    </tr>\n",
       "    <tr>\n",
       "      <th>Yes</th>\n",
       "      <td>171</td>\n",
       "      <td>55029.239766</td>\n",
       "      <td>10000</td>\n",
       "      <td>130000</td>\n",
       "    </tr>\n",
       "    <tr>\n",
       "      <th rowspan=\"2\" valign=\"top\">Male</th>\n",
       "      <th>No</th>\n",
       "      <td>78</td>\n",
       "      <td>54102.564103</td>\n",
       "      <td>10000</td>\n",
       "      <td>170000</td>\n",
       "    </tr>\n",
       "    <tr>\n",
       "      <th>Yes</th>\n",
       "      <td>189</td>\n",
       "      <td>56825.396825</td>\n",
       "      <td>10000</td>\n",
       "      <td>170000</td>\n",
       "    </tr>\n",
       "    <tr>\n",
       "      <th rowspan=\"4\" valign=\"top\">Yes</th>\n",
       "      <th rowspan=\"2\" valign=\"top\">Female</th>\n",
       "      <th>No</th>\n",
       "      <td>76</td>\n",
       "      <td>52368.421053</td>\n",
       "      <td>10000</td>\n",
       "      <td>170000</td>\n",
       "    </tr>\n",
       "    <tr>\n",
       "      <th>Yes</th>\n",
       "      <td>163</td>\n",
       "      <td>57177.914110</td>\n",
       "      <td>10000</td>\n",
       "      <td>150000</td>\n",
       "    </tr>\n",
       "    <tr>\n",
       "      <th rowspan=\"2\" valign=\"top\">Male</th>\n",
       "      <th>No</th>\n",
       "      <td>80</td>\n",
       "      <td>64000.000000</td>\n",
       "      <td>10000</td>\n",
       "      <td>160000</td>\n",
       "    </tr>\n",
       "    <tr>\n",
       "      <th>Yes</th>\n",
       "      <td>162</td>\n",
       "      <td>57037.037037</td>\n",
       "      <td>10000</td>\n",
       "      <td>160000</td>\n",
       "    </tr>\n",
       "  </tbody>\n",
       "</table>\n",
       "</div>"
      ],
      "text/plain": [
       "                                  count          mean    min     max\n",
       "Purchased Bike Gender Home Owner                                    \n",
       "No             Female No             81  50740.740741  10000  130000\n",
       "                      Yes           171  55029.239766  10000  130000\n",
       "               Male   No             78  54102.564103  10000  170000\n",
       "                      Yes           189  56825.396825  10000  170000\n",
       "Yes            Female No             76  52368.421053  10000  170000\n",
       "                      Yes           163  57177.914110  10000  150000\n",
       "               Male   No             80  64000.000000  10000  160000\n",
       "                      Yes           162  57037.037037  10000  160000"
      ]
     },
     "execution_count": 57,
     "metadata": {},
     "output_type": "execute_result"
    }
   ],
   "source": [
    "df_3[\"Income\"].agg([\"count\", \"mean\", \"min\", \"max\"])"
   ]
  },
  {
   "cell_type": "markdown",
   "id": "941b7142-9475-40fa-a385-025ece097f99",
   "metadata": {},
   "source": [
    "**Zaključak**: Oni koji kupuju već imaju kuću i to su podjenako muškarci i žene."
   ]
  }
 ],
 "metadata": {
  "kernelspec": {
   "display_name": "Python 3 (ipykernel)",
   "language": "python",
   "name": "python3"
  },
  "language_info": {
   "codemirror_mode": {
    "name": "ipython",
    "version": 3
   },
   "file_extension": ".py",
   "mimetype": "text/x-python",
   "name": "python",
   "nbconvert_exporter": "python",
   "pygments_lexer": "ipython3",
   "version": "3.12.9"
  }
 },
 "nbformat": 4,
 "nbformat_minor": 5
}
