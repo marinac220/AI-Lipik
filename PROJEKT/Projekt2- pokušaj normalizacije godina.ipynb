{
 "cells": [
  {
   "cell_type": "code",
   "execution_count": 6,
   "id": "64a4deff-5b65-4b1a-9a64-803e318e0b85",
   "metadata": {},
   "outputs": [
    {
     "ename": "ModuleNotFoundError",
     "evalue": "No module named 'Projekt1'",
     "output_type": "error",
     "traceback": [
      "\u001b[1;31m---------------------------------------------------------------------------\u001b[0m",
      "\u001b[1;31mModuleNotFoundError\u001b[0m                       Traceback (most recent call last)",
      "Cell \u001b[1;32mIn[6], line 1\u001b[0m\n\u001b[1;32m----> 1\u001b[0m \u001b[38;5;28;01mimport\u001b[39;00m \u001b[38;5;21;01mProjekt1\u001b[39;00m\n\u001b[0;32m      2\u001b[0m bank4 \u001b[38;5;241m=\u001b[39m Projekt1\u001b[38;5;241m.\u001b[39mbank4\n",
      "\u001b[1;31mModuleNotFoundError\u001b[0m: No module named 'Projekt1'"
     ]
    }
   ],
   "source": [
    "import Projekt1\n",
    "bank4 = Projekt1.bank4"
   ]
  },
  {
   "cell_type": "code",
   "execution_count": null,
   "id": "4e42031b-86ae-471a-901c-fcdf89f6ffcc",
   "metadata": {},
   "outputs": [],
   "source": []
  }
 ],
 "metadata": {
  "kernelspec": {
   "display_name": "Python 3 (ipykernel)",
   "language": "python",
   "name": "python3"
  },
  "language_info": {
   "codemirror_mode": {
    "name": "ipython",
    "version": 3
   },
   "file_extension": ".py",
   "mimetype": "text/x-python",
   "name": "python",
   "nbconvert_exporter": "python",
   "pygments_lexer": "ipython3",
   "version": "3.12.7"
  }
 },
 "nbformat": 4,
 "nbformat_minor": 5
}
